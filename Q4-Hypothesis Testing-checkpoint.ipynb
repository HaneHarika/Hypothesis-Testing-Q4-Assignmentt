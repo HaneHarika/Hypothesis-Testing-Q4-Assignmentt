{
 "cells": [
  {
   "cell_type": "code",
   "execution_count": 2,
   "id": "9a83ed3f",
   "metadata": {},
   "outputs": [],
   "source": [
    "#import the libraries\n",
    "%matplotlib inline\n",
    "import numpy as np\n",
    "import scipy as sp\n",
    "import pandas as pd\n",
    "import statsmodels.api as sm\n",
    "import statsmodels.formula.api as smf\n",
    "import matplotlib as mpl\n",
    "import matplotlib.pyplot as plt\n",
    "import seaborn as sns\n",
    "from statsmodels.stats.proportion import proportions_ztest\n",
    "\n"
   ]
  },
  {
   "cell_type": "code",
   "execution_count": 3,
   "id": "57533029",
   "metadata": {},
   "outputs": [
    {
     "data": {
      "text/html": [
       "<div>\n",
       "<style scoped>\n",
       "    .dataframe tbody tr th:only-of-type {\n",
       "        vertical-align: middle;\n",
       "    }\n",
       "\n",
       "    .dataframe tbody tr th {\n",
       "        vertical-align: top;\n",
       "    }\n",
       "\n",
       "    .dataframe thead th {\n",
       "        text-align: right;\n",
       "    }\n",
       "</style>\n",
       "<table border=\"1\" class=\"dataframe\">\n",
       "  <thead>\n",
       "    <tr style=\"text-align: right;\">\n",
       "      <th></th>\n",
       "      <th>Phillippines</th>\n",
       "      <th>Indonesia</th>\n",
       "      <th>Malta</th>\n",
       "      <th>India</th>\n",
       "    </tr>\n",
       "  </thead>\n",
       "  <tbody>\n",
       "    <tr>\n",
       "      <th>0</th>\n",
       "      <td>Error Free</td>\n",
       "      <td>Error Free</td>\n",
       "      <td>Defective</td>\n",
       "      <td>Error Free</td>\n",
       "    </tr>\n",
       "    <tr>\n",
       "      <th>1</th>\n",
       "      <td>Error Free</td>\n",
       "      <td>Error Free</td>\n",
       "      <td>Error Free</td>\n",
       "      <td>Defective</td>\n",
       "    </tr>\n",
       "    <tr>\n",
       "      <th>2</th>\n",
       "      <td>Error Free</td>\n",
       "      <td>Defective</td>\n",
       "      <td>Defective</td>\n",
       "      <td>Error Free</td>\n",
       "    </tr>\n",
       "    <tr>\n",
       "      <th>3</th>\n",
       "      <td>Error Free</td>\n",
       "      <td>Error Free</td>\n",
       "      <td>Error Free</td>\n",
       "      <td>Error Free</td>\n",
       "    </tr>\n",
       "    <tr>\n",
       "      <th>4</th>\n",
       "      <td>Error Free</td>\n",
       "      <td>Error Free</td>\n",
       "      <td>Defective</td>\n",
       "      <td>Error Free</td>\n",
       "    </tr>\n",
       "  </tbody>\n",
       "</table>\n",
       "</div>"
      ],
      "text/plain": [
       "  Phillippines   Indonesia       Malta       India\n",
       "0   Error Free  Error Free   Defective  Error Free\n",
       "1   Error Free  Error Free  Error Free   Defective\n",
       "2   Error Free   Defective   Defective  Error Free\n",
       "3   Error Free  Error Free  Error Free  Error Free\n",
       "4   Error Free  Error Free   Defective  Error Free"
      ]
     },
     "execution_count": 3,
     "metadata": {},
     "output_type": "execute_result"
    }
   ],
   "source": [
    "Customer = pd.read_csv('C:/Users/AISHWARYA/Downloads/Costomer+OrderForm.csv')\n",
    "Customer.head()\n"
   ]
  },
  {
   "cell_type": "code",
   "execution_count": 4,
   "id": "fdbf63df",
   "metadata": {},
   "outputs": [
    {
     "data": {
      "text/html": [
       "<div>\n",
       "<style scoped>\n",
       "    .dataframe tbody tr th:only-of-type {\n",
       "        vertical-align: middle;\n",
       "    }\n",
       "\n",
       "    .dataframe tbody tr th {\n",
       "        vertical-align: top;\n",
       "    }\n",
       "\n",
       "    .dataframe thead th {\n",
       "        text-align: right;\n",
       "    }\n",
       "</style>\n",
       "<table border=\"1\" class=\"dataframe\">\n",
       "  <thead>\n",
       "    <tr style=\"text-align: right;\">\n",
       "      <th></th>\n",
       "      <th>Phillippines</th>\n",
       "      <th>Indonesia</th>\n",
       "      <th>Malta</th>\n",
       "      <th>India</th>\n",
       "    </tr>\n",
       "  </thead>\n",
       "  <tbody>\n",
       "    <tr>\n",
       "      <th>count</th>\n",
       "      <td>300</td>\n",
       "      <td>300</td>\n",
       "      <td>300</td>\n",
       "      <td>300</td>\n",
       "    </tr>\n",
       "    <tr>\n",
       "      <th>unique</th>\n",
       "      <td>2</td>\n",
       "      <td>2</td>\n",
       "      <td>2</td>\n",
       "      <td>2</td>\n",
       "    </tr>\n",
       "    <tr>\n",
       "      <th>top</th>\n",
       "      <td>Error Free</td>\n",
       "      <td>Error Free</td>\n",
       "      <td>Error Free</td>\n",
       "      <td>Error Free</td>\n",
       "    </tr>\n",
       "    <tr>\n",
       "      <th>freq</th>\n",
       "      <td>271</td>\n",
       "      <td>267</td>\n",
       "      <td>269</td>\n",
       "      <td>280</td>\n",
       "    </tr>\n",
       "  </tbody>\n",
       "</table>\n",
       "</div>"
      ],
      "text/plain": [
       "       Phillippines   Indonesia       Malta       India\n",
       "count           300         300         300         300\n",
       "unique            2           2           2           2\n",
       "top      Error Free  Error Free  Error Free  Error Free\n",
       "freq            271         267         269         280"
      ]
     },
     "execution_count": 4,
     "metadata": {},
     "output_type": "execute_result"
    }
   ],
   "source": [
    "Customer.describe()"
   ]
  },
  {
   "cell_type": "code",
   "execution_count": 5,
   "id": "5962f384",
   "metadata": {
    "scrolled": true
   },
   "outputs": [
    {
     "name": "stdout",
     "output_type": "stream",
     "text": [
      "Error Free    271\n",
      "Defective      29\n",
      "Name: Phillippines, dtype: int64\n",
      "Error Free    267\n",
      "Defective      33\n",
      "Name: Indonesia, dtype: int64\n",
      "Error Free    269\n",
      "Defective      31\n",
      "Name: Malta, dtype: int64\n",
      "Error Free    280\n",
      "Defective      20\n",
      "Name: India, dtype: int64\n"
     ]
    }
   ],
   "source": [
    "Phillippines_value=Customer['Phillippines'].value_counts()\n",
    "Indonesia_value=Customer['Indonesia'].value_counts()\n",
    "Malta_value=Customer['Malta'].value_counts()\n",
    "India_value=Customer['India'].value_counts()\n",
    "print(Phillippines_value)\n",
    "print(Indonesia_value)\n",
    "print(Malta_value)\n",
    "print(India_value)"
   ]
  },
  {
   "cell_type": "code",
   "execution_count": 6,
   "id": "8d5b4845",
   "metadata": {},
   "outputs": [
    {
     "name": "stdout",
     "output_type": "stream",
     "text": [
      "Test t=3.858961 p-value=0.277102\n",
      "Interpret by p-Value\n",
      "we accept null hypothesis\n"
     ]
    }
   ],
   "source": [
    "\n",
    "chiStats = sp.stats.chi2_contingency([[271,267,269,280],[29,33,31,20]])\n",
    "print('Test t=%f p-value=%f' % (chiStats[0], chiStats[1]))\n",
    "print('Interpret by p-Value')\n",
    "if chiStats[1] < 0.05:\n",
    "  print('we reject null hypothesis')\n",
    "else:\n",
    "  print('we accept null hypothesis')"
   ]
  },
  {
   "cell_type": "code",
   "execution_count": 10,
   "id": "8ad3500f",
   "metadata": {},
   "outputs": [
    {
     "name": "stdout",
     "output_type": "stream",
     "text": [
      "Interpret by critical value\n",
      "Null hypothesis cannot be rejected (variables are not related)\n"
     ]
    }
   ],
   "source": [
    "#critical value = 0.1\n",
    "alpha = 0.05\n",
    "critical_value = sp.stats.chi2.ppf(q = 1 - alpha,df=chiStats[2])\n",
    "observed_chi_val = chiStats[0]\n",
    "print('Interpret by critical value')\n",
    "if observed_chi_val <= critical_value:\n",
    "       print ('Null hypothesis cannot be rejected (variables are not related)')\n",
    "else:\n",
    "       print ('Null hypothesis cannot be excepted (variables are not independent)')\n"
   ]
  },
  {
   "cell_type": "code",
   "execution_count": 9,
   "id": "c6a8c61e",
   "metadata": {},
   "outputs": [],
   "source": [
    "#Inference is that proportion of defective % across the center is same.\n"
   ]
  },
  {
   "cell_type": "code",
   "execution_count": null,
   "id": "ca65091f",
   "metadata": {},
   "outputs": [],
   "source": []
  }
 ],
 "metadata": {
  "kernelspec": {
   "display_name": "Python 3",
   "language": "python",
   "name": "python3"
  },
  "language_info": {
   "codemirror_mode": {
    "name": "ipython",
    "version": 3
   },
   "file_extension": ".py",
   "mimetype": "text/x-python",
   "name": "python",
   "nbconvert_exporter": "python",
   "pygments_lexer": "ipython3",
   "version": "3.8.8"
  }
 },
 "nbformat": 4,
 "nbformat_minor": 5
}
